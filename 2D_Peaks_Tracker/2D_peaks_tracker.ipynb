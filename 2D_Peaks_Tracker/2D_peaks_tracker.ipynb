{
 "cells": [
  {
   "cell_type": "code",
   "execution_count": 1,
   "id": "e618648b",
   "metadata": {},
   "outputs": [
    {
     "name": "stdout",
     "output_type": "stream",
     "text": [
      "done\n"
     ]
    }
   ],
   "source": [
    "import matplotlib as mpl\n",
    "import matplotlib.pyplot as plt\n",
    "import pandas as pd\n",
    "pd.set_option('display.max_columns', 500)\n",
    "from matplotlib.image import NonUniformImage\n",
    "import numpy as np\n",
    "import scipy.integrate as integrate\n",
    "import scipy.stats as lfit\n",
    "from scipy.constants import pi, e, hbar, h\n",
    "from scipy import interpolate, ndimage, signal, sparse, optimize, linalg, stats\n",
    "from scipy.signal import savgol_filter\n",
    "from ipywidgets import widgets, interact\n",
    "from Delta_data import DatFile, Data2D\n",
    "from functools import partial\n",
    "from scipy.signal import find_peaks\n",
    "from Delta_data_load import load_2d_data, get_gate1_lock1, get_gate3_lock1, get_grids\n",
    "from Delta_peaks_hort import peaks_hort, find_peak_evol_hort, find_max_2D\n",
    "import glob\n",
    "print (\"done\")"
   ]
  },
  {
   "cell_type": "code",
   "execution_count": 2,
   "id": "fbae3002",
   "metadata": {},
   "outputs": [],
   "source": [
    "plt.rcParams.update({'font.size': 16})"
   ]
  },
  {
   "cell_type": "code",
   "execution_count": 3,
   "id": "fa82a1fb",
   "metadata": {},
   "outputs": [
    {
     "data": {
      "text/plain": [
       "(620, 20)"
      ]
     },
     "execution_count": 3,
     "metadata": {},
     "output_type": "execute_result"
    }
   ],
   "source": [
    "#Choose Excel file to read\n",
    "df_runs = pd.read_excel(\"../VA_182MK_Sept2021/September-21.xlsx\")\n",
    "df_runs.shape\n",
    "\n"
   ]
  },
  {
   "cell_type": "code",
   "execution_count": 4,
   "id": "209159e2",
   "metadata": {},
   "outputs": [],
   "source": [
    "#Convert empty \"Step\" cell to string.\n",
    "#For convenience, I have deleted the step cells for any cancelled scan\n",
    "#so the program can easily ignore cancelled scans\n",
    "df_runs = df_runs[~df_runs[\"Step\"].isnull()].astype({'Step': 'string'})\n",
    "df_runs = df_runs[~df_runs[\"T\"].isnull()].astype({'T': 'string'})\n",
    "#df_runs = df_runs[df_runs[\"Other comments.1\"].str.contains(\"2D\")]"
   ]
  },
  {
   "cell_type": "code",
   "execution_count": 5,
   "id": "46d80d54",
   "metadata": {},
   "outputs": [
    {
     "data": {
      "text/plain": [
       "0"
      ]
     },
     "execution_count": 5,
     "metadata": {},
     "output_type": "execute_result"
    }
   ],
   "source": [
    "df_runs[\"T\"].isnull().sum()"
   ]
  },
  {
   "cell_type": "code",
   "execution_count": 6,
   "id": "1839467c",
   "metadata": {},
   "outputs": [],
   "source": [
    "# Keep rows where the temperature is not null\n",
    "df_runs = df_runs[~df_runs[\"Step\"].isnull()].astype({'Step': 'string'})\n",
    "# Keep rows where the temperature has a number\n",
    "df_runs = df_runs[df_runs[\"Step\"].str.contains('\\d*\\.\\d+|\\d+')]\n",
    "df_runs = df_runs[df_runs[\"T\"].str.contains('\\d*\\.\\d+|\\d+')]"
   ]
  },
  {
   "cell_type": "code",
   "execution_count": 7,
   "id": "520370c6",
   "metadata": {
    "scrolled": true
   },
   "outputs": [
    {
     "name": "stderr",
     "output_type": "stream",
     "text": [
      "C:\\Users\\Madma\\anaconda3\\lib\\site-packages\\pandas\\core\\strings\\accessor.py:101: UserWarning: This pattern has match groups. To actually get the groups, use str.extract.\n",
      "  return func(self, *args, **kwargs)\n"
     ]
    }
   ],
   "source": [
    "col_name = 'T'\n",
    "# storing cells that have mK/mk (not K) in m\n",
    "m =  df_runs[col_name].str.contains('(\\d*\\.\\d+|\\d+)(mK|mk)')\n",
    "# go to current T column and extract only the digits and \n",
    "# reassign it to the temp column\n",
    "\n",
    "df_runs[col_name] = df_runs[col_name].str.extract('(\\d*\\.\\d+|\\d+)', expand=False).astype(float)\n",
    "# convert the mK/mk into Kelvin \n",
    "df_runs.loc[m, col_name] *= 0.001"
   ]
  },
  {
   "cell_type": "code",
   "execution_count": 8,
   "id": "620ad58f",
   "metadata": {},
   "outputs": [],
   "source": [
    "# convert mid gate column into string\n",
    "df_runs[\"gate mid\"] = df_runs[\"gate mid\"].astype(\"string\")\n",
    "# extract only digits from mid gate column and convert to float\n",
    "df_runs[\"gate mid\"] = df_runs[\"gate mid\"].str.extract('(\\d*\\.\\d+|\\d+)', expand=False).astype(float)"
   ]
  },
  {
   "cell_type": "code",
   "execution_count": 9,
   "id": "fe4adfef",
   "metadata": {},
   "outputs": [],
   "source": [
    "df_runs = df_runs[df_runs[\"Run\"]<=409]\n",
    "df_runs = df_runs[df_runs[\"Run\"]>=355]\n",
    "#df_runs = df_runs[\"Run\"].astype(\"int\")"
   ]
  },
  {
   "cell_type": "code",
   "execution_count": 10,
   "id": "b31d774b",
   "metadata": {},
   "outputs": [
    {
     "name": "stdout",
     "output_type": "stream",
     "text": [
      "Max =  4.22437253e-06  located at pixel:  [5, 3] \n",
      "Gate 2V = 0.26049 \n",
      "Gate 3V = 0.26763\n",
      "4.22437253e-06\n",
      "[5, 3]\n"
     ]
    }
   ],
   "source": [
    "'''Enter File Number to work work'''\n",
    "'''Use only this file when entering delta values'''\n",
    "file_number = 357\n",
    "\n",
    "\n",
    "\n",
    "# Find the max value of the entire 2D scan OR of a specified square region\n",
    "main_max, main_coord, file_data, data = find_max_2D(file_number, \n",
    "                                              global_max = True,     #If true, ignores values of x/y min/max and find global maximum\n",
    "                                              x_min = 0.2625,\n",
    "                                              x_max = 0.265,         #Enter dimensions of square you wish to find the maximum in\n",
    "                                              y_min = 0.266,           #NUMBER COORESPONDS TO PIXEL DIMENSIONS\n",
    "                                              y_max = 0.270,         #Bottom left pixel of 2D scan corresponds to (0,0)\n",
    "                                              find_troughs=True)\n",
    "\n",
    "\n",
    "print(main_max)\n",
    "print(main_coord)\n",
    "# print(file_data.z)\n",
    "# print(file_data.z[2:4,2:4])\n",
    "# newshit = file_data.z[2,2:4]\n",
    "# print(newshit)"
   ]
  },
  {
   "cell_type": "code",
   "execution_count": 11,
   "id": "cab51b99",
   "metadata": {
    "scrolled": false
   },
   "outputs": [
    {
     "name": "stdout",
     "output_type": "stream",
     "text": [
      "Finding peaks AND troughs\n",
      "Ordering peaks by prominence\n",
      "..\\VA_182MK_Sept2021\\VA_182MK_Sept2021_355.dat..\\VA_182MK_Sept2021\\VA_182MK_Sept2021_355.dat\n",
      "..\\VA_182MK_Sept2021\\VA_182MK_Sept2021_357.dat..\\VA_182MK_Sept2021\\VA_182MK_Sept2021_357.dat\n",
      "..\\VA_182MK_Sept2021\\VA_182MK_Sept2021_359.dat..\\VA_182MK_Sept2021\\VA_182MK_Sept2021_359.dat\n",
      "..\\VA_182MK_Sept2021\\VA_182MK_Sept2021_363.dat..\\VA_182MK_Sept2021\\VA_182MK_Sept2021_363.dat\n",
      "..\\VA_182MK_Sept2021\\VA_182MK_Sept2021_365.dat..\\VA_182MK_Sept2021\\VA_182MK_Sept2021_365.dat\n",
      "..\\VA_182MK_Sept2021\\VA_182MK_Sept2021_367.dat..\\VA_182MK_Sept2021\\VA_182MK_Sept2021_367.dat\n",
      "..\\VA_182MK_Sept2021\\VA_182MK_Sept2021_369.dat..\\VA_182MK_Sept2021\\VA_182MK_Sept2021_369.dat\n",
      "..\\VA_182MK_Sept2021\\VA_182MK_Sept2021_371.dat..\\VA_182MK_Sept2021\\VA_182MK_Sept2021_371.dat\n",
      "..\\VA_182MK_Sept2021\\VA_182MK_Sept2021_373.dat..\\VA_182MK_Sept2021\\VA_182MK_Sept2021_373.dat\n",
      "..\\VA_182MK_Sept2021\\VA_182MK_Sept2021_375.dat..\\VA_182MK_Sept2021\\VA_182MK_Sept2021_375.dat\n",
      "..\\VA_182MK_Sept2021\\VA_182MK_Sept2021_377.dat..\\VA_182MK_Sept2021\\VA_182MK_Sept2021_377.dat\n",
      "..\\VA_182MK_Sept2021\\VA_182MK_Sept2021_379.dat..\\VA_182MK_Sept2021\\VA_182MK_Sept2021_379.dat\n",
      "..\\VA_182MK_Sept2021\\VA_182MK_Sept2021_381.dat..\\VA_182MK_Sept2021\\VA_182MK_Sept2021_381.dat\n",
      "..\\VA_182MK_Sept2021\\VA_182MK_Sept2021_383.dat..\\VA_182MK_Sept2021\\VA_182MK_Sept2021_383.dat\n",
      "..\\VA_182MK_Sept2021\\VA_182MK_Sept2021_385.dat..\\VA_182MK_Sept2021\\VA_182MK_Sept2021_385.dat\n",
      "..\\VA_182MK_Sept2021\\VA_182MK_Sept2021_387.dat..\\VA_182MK_Sept2021\\VA_182MK_Sept2021_387.dat\n",
      "..\\VA_182MK_Sept2021\\VA_182MK_Sept2021_389.dat..\\VA_182MK_Sept2021\\VA_182MK_Sept2021_389.dat\n",
      "..\\VA_182MK_Sept2021\\VA_182MK_Sept2021_391.dat..\\VA_182MK_Sept2021\\VA_182MK_Sept2021_391.dat\n",
      "..\\VA_182MK_Sept2021\\VA_182MK_Sept2021_393.dat..\\VA_182MK_Sept2021\\VA_182MK_Sept2021_393.dat\n",
      "..\\VA_182MK_Sept2021\\VA_182MK_Sept2021_395.dat..\\VA_182MK_Sept2021\\VA_182MK_Sept2021_395.dat\n",
      "..\\VA_182MK_Sept2021\\VA_182MK_Sept2021_397.dat..\\VA_182MK_Sept2021\\VA_182MK_Sept2021_397.dat\n",
      "..\\VA_182MK_Sept2021\\VA_182MK_Sept2021_399.dat..\\VA_182MK_Sept2021\\VA_182MK_Sept2021_399.dat\n",
      "..\\VA_182MK_Sept2021\\VA_182MK_Sept2021_401.dat..\\VA_182MK_Sept2021\\VA_182MK_Sept2021_401.dat\n",
      "..\\VA_182MK_Sept2021\\VA_182MK_Sept2021_403.dat..\\VA_182MK_Sept2021\\VA_182MK_Sept2021_403.dat\n",
      "..\\VA_182MK_Sept2021\\VA_182MK_Sept2021_405.dat..\\VA_182MK_Sept2021\\VA_182MK_Sept2021_405.dat\n",
      "..\\VA_182MK_Sept2021\\VA_182MK_Sept2021_407.dat..\\VA_182MK_Sept2021\\VA_182MK_Sept2021_407.dat\n",
      "..\\VA_182MK_Sept2021\\VA_182MK_Sept2021_409.dat..\\VA_182MK_Sept2021\\VA_182MK_Sept2021_409.dat\n",
      "2\n",
      "Done\n",
      "Valid files #: 27\n"
     ]
    }
   ],
   "source": [
    "file_list=[]\n",
    "for ident in df_runs[\"Run\"]:\n",
    "    ident = int(ident)\n",
    "    file_loc = glob.glob(\"../*/*Sept2021_{}.dat\".format(ident), recursive=False)\n",
    "    file_list.append(file_loc[0])\n",
    "\n",
    "#print(file_list)\n",
    "    \n",
    "max_peaks = 2\n",
    "fixedGate3Val = 0.265\n",
    "x_array, y_array, width_array, prominence_array, num_peaks_array = \\\n",
    "                            find_peak_evol_hort(file_list=file_list, \n",
    "                                           fixedGate3Val=fixedGate3Val,    \n",
    "                                           min_width=4, \n",
    "                                           height=1e-6,\n",
    "                                           find_troughs=True,\n",
    "                                           x_peak_max=0.5,\n",
    "                                           x_peak_min=0.2,\n",
    "                                           max_peaks=max_peaks,\n",
    "                                           sort_prominence=True,    #True = sort peak data by prominence\n",
    "                                           prominence=0.0000016)    #Average Prominenece for MKdata is 1E-6\n",
    "\n",
    "\n",
    "\n",
    "\n",
    "#print(x_array)\n",
    "#print(y_array)\n",
    "#print(width_array)\n",
    "#print(prominence_array)\n",
    "# df_peaks = pd.DataFrame(x_array)\n",
    "# df_peaks.to_csv(\"Data1015-1048/peaks.csv\")\n"
   ]
  }
 ],
 "metadata": {
  "kernelspec": {
   "display_name": "Python 3",
   "language": "python",
   "name": "python3"
  },
  "language_info": {
   "codemirror_mode": {
    "name": "ipython",
    "version": 3
   },
   "file_extension": ".py",
   "mimetype": "text/x-python",
   "name": "python",
   "nbconvert_exporter": "python",
   "pygments_lexer": "ipython3",
   "version": "3.8.8"
  }
 },
 "nbformat": 4,
 "nbformat_minor": 5
}
